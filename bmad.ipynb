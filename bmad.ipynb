{
 "cells": [
  {
   "cell_type": "code",
   "execution_count": 1,
   "metadata": {},
   "outputs": [],
   "source": [
    "#revisa si el vector es cero\n",
    "#vector: lista de enteros\n",
    "def zero_vector(vector):\n",
    "    if type(vector) is Integer or type(vector) is int:\n",
    "        return vector == 0\n",
    "    else:\n",
    "        for i in range(0,len(vector)):\n",
    "            if vector[i] != 0:\n",
    "                return False\n",
    "    return True\n",
    "\n",
    "#revisa si la matriz es cero\n",
    "#matrix: lista de listas de enteros\n",
    "def zero_matrix(matrix):\n",
    "    for i in matrix:\n",
    "        if not zero_vector(i):\n",
    "            return False\n",
    "    return True\n",
    "\n",
    "#imprime la matriz de una forma mas clara\n",
    "#matriz: lista de listas\n",
    "def pm(matriz):\n",
    "    for i in matriz:\n",
    "        print(i)\n",
    "        \n",
    "#transpone la matriz\n",
    "#matriz: lista de listas\n",
    "def transpose_matrix(matriz):\n",
    "    zipped_rows = zip(*matriz)\n",
    "    return [list(row) for row in zipped_rows]\n",
    "\n",
    "#soporte de un vector\n",
    "#vector: lista de enteros\n",
    "def vector_support(vector):\n",
    "    indexes = []\n",
    "    for i in range(len(vector)):\n",
    "        if vector[i] != 0:\n",
    "            indexes.append(i)\n",
    "    return indexes\n",
    "\n",
    "#genera todos los vectores binarios posibles de longitud n\n",
    "def generate_binary(n):\n",
    "    bin_arr = range(0, int(math.pow(2,n)))\n",
    "    bin_arr = [bin(i)[2:] for i in bin_arr]\n",
    "    max_len = len(max(bin_arr, key=len))\n",
    "    bin_arr = [list(i.zfill(max_len)) for i in bin_arr]\n",
    "    for a in bin_arr:\n",
    "        for i in range(len(a)):\n",
    "            a[i] = int(a[i])\n",
    "    return bin_arr\n",
    "\n",
    "#calcula las duplas que hacen parte de la q-orbita\n",
    "#q: entero, numero primo de la q-orbita\n",
    "#a: dupla de enteros, los enteros a0 y a1 de la q-orbita que se quiere calcular\n",
    "#r: dupla de enteros, r1 y r2 en I = Zr1 x Zr2\n",
    "def q_orbits(q,a,r):\n",
    "    parejas = []\n",
    "    for i in range(r[0]*r[1]):\n",
    "        coord1 = (a[0] * q**i) % r[0]\n",
    "        coord2 = (a[1] * q**i) % r[1]\n",
    "        if [coord1,coord2] not in parejas:\n",
    "            parejas.append([coord1,coord2])\n",
    "    return parejas\n",
    "\n",
    "\n",
    "def generate_matrix(q,a,r):\n",
    "    coordinates = []\n",
    "    for j in a:\n",
    "        qorbits = q_orbits(q,j,r)\n",
    "        for o in qorbits:\n",
    "            if o not in coordinates:\n",
    "                coordinates.append(o) \n",
    "    matrix = [[1 for x in range(r[1])] for y in range(r[0])]\n",
    "    for i,j in coordinates:\n",
    "         matrix[i][j] = 0\n",
    "    return matrix\n",
    "\n",
    "    #calcula el omega de una hipercolumna en una matriz\n",
    "#matriz: lista de listas de enteros\n",
    "#vector: entero, el indice del vector\n",
    "#dim: 0 o 1, 0 para filas y 1 para columnas\n",
    "def omeg(matriz, vector, dim):\n",
    "    counter = 0\n",
    "    if dim == 0:\n",
    "        matriz = matriz[vector:] + matriz\n",
    "        for i in range(len(matriz)):\n",
    "            if(zero_vector(matriz[i+1])):\n",
    "                counter += 1\n",
    "            else:\n",
    "                break\n",
    "    if dim == 1:\n",
    "        t_matriz = transpose_matrix(matriz)\n",
    "        t_matriz = t_matriz[vector:] + t_matriz\n",
    "        for i in range(len(t_matriz)):\n",
    "            if(zero_vector(t_matriz[i+1])):\n",
    "                counter += 1\n",
    "            else:\n",
    "                break\n",
    "    return counter\n",
    "\n",
    "#\"conjuga\" la matriz, i.e., cambia las entradas 1 por 0 y viceversa\n",
    "def conjugate_matrix(matriz):\n",
    "    m = matriz\n",
    "    for i in m:\n",
    "        for j in range(len(i)):\n",
    "            i[j] = 1 if (i[j]==0) else 0\n",
    "    return m\n",
    "\n",
    "#calcula la distancia aparente de una hipercolumna\n",
    "#hm: lista de enteros, la hipercolumna\n",
    "def dist_Hm(hm):\n",
    "    om = []\n",
    "    indices = []\n",
    "    if zero_vector(hm):\n",
    "        return 0\n",
    "    for i in range(0,len(hm)):\n",
    "        if hm[i] != 0:\n",
    "            indices.append(i)\n",
    "    for i in indices:\n",
    "        om.append(omeg(hm,i,0)+1)\n",
    "    return max(om)  \n",
    "\n",
    "#genera el conjunto de ds-bounds con la distancia aparente\n",
    "#words: lista de listas, conjunto de vectores binarios\n",
    "def generate_ad(words):\n",
    "    dsb_set = []\n",
    "    for word in words:\n",
    "        b = dist_Hm(word)\n",
    "        s = defining_set(word)\n",
    "        dsb_set.append([s,b])\n",
    "    return dsb_set\n",
    "\n",
    "#genera el conjunto de b's a probar en la cota HT\n",
    "def generate_b(delta):\n",
    "    return [x for x in range(1, delta + 1)]\n",
    "\n",
    "#genera los s+1 multiplos de b modulo n\n",
    "def multiples(b, s, n):\n",
    "    m = []\n",
    "    for i in range(s+1):\n",
    "        m.append((b*i)%n)\n",
    "    return m\n",
    "\n",
    "#hace la suma 'distributiva' modulo n de conjuntos usada en la cota HT\n",
    "def set_sum(A, B, n):\n",
    "    AplusB = [] \n",
    "    for i in A:\n",
    "        for j in B:\n",
    "            AplusB.append((i+j)%n)\n",
    "    return AplusB\n",
    "\n",
    "#trae el indice del primer elemento no nulo del vector\n",
    "def first_one(vector):\n",
    "    for i in range(len(vector)):\n",
    "            if vector[i] == 1:\n",
    "                return i\n",
    "    return\n",
    "\n",
    "#genera el conjunto de definicion del vector\n",
    "def defining_set(vector):\n",
    "    return [i for i, e in enumerate(vector) if e == 0]\n",
    "\n",
    "#separa los indices de los 'bloques' de ceros consecutivos del vector \n",
    "def zero_blocks(t):\n",
    "    first = first_one(t)\n",
    "    if zero_vector(t):\n",
    "        return []\n",
    "    T = t + t\n",
    "    bloques = []\n",
    "    bloque = []\n",
    "    for i in range(first,len(T)):\n",
    "        if T[i] == 0:\n",
    "            bloque.append(i%len(t))\n",
    "        else:\n",
    "            if bloque in bloques:\n",
    "                break\n",
    "            if len(bloque) > 0:\n",
    "                bloques.append(bloque)\n",
    "                bloque = []\n",
    "    return bloques\n",
    "\n",
    "#calcula la cota HT del vector\n",
    "def HT(vector):\n",
    "    if zero_vector(vector):\n",
    "        return 0\n",
    "    n = len(vector)\n",
    "    cotas = []\n",
    "    T = defining_set(vector)\n",
    "    blocks = zero_blocks(vector)\n",
    "    max_delta = (max([len(x) for x in blocks]) + 1) if blocks else 1\n",
    "    for block in blocks:\n",
    "        delta = len(block) + 1\n",
    "        bs = generate_b(n)\n",
    "        bs = [b for b in bs if gcd(b,n) < delta]\n",
    "        ss = [s for s in range(1, delta*4)]\n",
    "        for b in bs:\n",
    "            for s in ss:\n",
    "                B = multiples(b,s,n)\n",
    "                AB = set_sum(block,B,n)\n",
    "                if set(AB).issubset(T):\n",
    "                    cotas.append(delta+s)\n",
    "    return max(cotas) if cotas else max_delta\n",
    "\n",
    "#genera el conjunto de ds-bounds con la distancia aparente fuerte\n",
    "#words: lista de listas, conjunto de vectores binarios\n",
    "def generate_ht(words):\n",
    "    dsb_set = []\n",
    "    for word in words:\n",
    "        b = HT(word)\n",
    "        s = defining_set(word)\n",
    "        dsb_set.append([s,b])\n",
    "    return dsb_set"
   ]
  },
  {
   "cell_type": "code",
   "execution_count": 2,
   "metadata": {},
   "outputs": [],
   "source": [
    "#retorna la ds-bound optima para un conjunto de indices N con relacion a un conjunto de ds-bounds definido\n",
    "def optimal_dsbound(ds_bound, N):\n",
    "    maximo = 0\n",
    "    for bound in ds_bound:\n",
    "        if bound[0] == N:\n",
    "            maximo = bound[1] if bound[1] > maximo else maximo\n",
    "    return maximo"
   ]
  },
  {
   "cell_type": "code",
   "execution_count": 3,
   "metadata": {},
   "outputs": [],
   "source": [
    "#calcula la distancia delta-aparente de un vector\n",
    "def dad_vector(ds_bound, vector):\n",
    "    if zero_vector(vector):\n",
    "        return 0\n",
    "    supp = vector_support(vector)\n",
    "    complement = []\n",
    "    for i in range(len(vector)):\n",
    "        if i not in supp:\n",
    "            complement.append(i)\n",
    "    optimal = optimal_dsbound(ds_bound, complement)\n",
    "    return optimal"
   ]
  },
  {
   "cell_type": "code",
   "execution_count": 4,
   "metadata": {},
   "outputs": [],
   "source": [
    "#calcula la distancia B-aparente de un vector a partir de un conjunto de ds-bounds\n",
    "def Bad_vector(dsb_set, vector):\n",
    "    if zero_vector(vector):\n",
    "        return 0\n",
    "    maximo = 0\n",
    "    for dsbound in dsb_set:\n",
    "        dadv = dad_vector(dsbound, vector)\n",
    "        maximo = dadv if dadv > maximo else maximo\n",
    "    return maximo"
   ]
  },
  {
   "cell_type": "code",
   "execution_count": 5,
   "metadata": {},
   "outputs": [],
   "source": [
    "#calcula el soporte en filas/columnas para la matriz M\n",
    "def support(M):\n",
    "    supp = []\n",
    "    for index in range(len(M)):\n",
    "        if not zero_vector(M[index]):\n",
    "            supp.append(index)\n",
    "    return supp"
   ]
  },
  {
   "cell_type": "code",
   "execution_count": 6,
   "metadata": {},
   "outputs": [],
   "source": [
    "#calcula el omega en las filas de la matriz M con respecto a un conjunto de ds-bounds\n",
    "def omega_x(M, dsb_set):\n",
    "    soporte = support(M)\n",
    "    complemento = []\n",
    "    omega = 0\n",
    "    for i in range(len(M)):\n",
    "        if i not in soporte:\n",
    "            complemento.append(i)\n",
    "    for dsbound in dsb_set:\n",
    "        opt = optimal_dsbound(dsbound, complemento)\n",
    "        omega = opt if opt > omega else omega\n",
    "    print(\"Omega respecto a x: \", omega)\n",
    "    return omega\n",
    "\n",
    "#calcula el epsilon en las filas de la matriz M con respecto a un conjunto de ds-bounds\n",
    "def epsilon_x(M, dsb_set):\n",
    "    soporte = support(M)\n",
    "    epsilon = 0\n",
    "    for i in soporte:\n",
    "        bv = Bad_vector(dsb_set, M[i])\n",
    "        epsilon = bv if bv > epsilon else epsilon\n",
    "    print(\"Epsilon respecto a x: \", epsilon)\n",
    "    return epsilon\n",
    "\n",
    "#calcula la distancia B-aparente en las filas de la matriz M con respecto a los dos conjuntos de \n",
    "#ds-bounds (uno para cada dimension r1 y r2 de la matriz M_(r1 x r2))\n",
    "def Bad_x(dsb_set, dsb_set_2, M):\n",
    "    print(\"------------------------------------------------------------------------\")\n",
    "    ome = omega_x(M, dsb_set)\n",
    "    eps = epsilon_x(M, dsb_set_2)\n",
    "    print(\"---------------------------------------------------------------\")\n",
    "    print(\"Distancia B-aparente respecto a x: \", ome*eps)\n",
    "    print(\"------------------------------------------------------------------------\")\n",
    "    return ome*eps"
   ]
  },
  {
   "cell_type": "code",
   "execution_count": 7,
   "metadata": {},
   "outputs": [],
   "source": [
    "#calcula el omega en las columnas de la matriz M con respecto a un conjunto de ds-bounds\n",
    "def omega_y(m, dsb_set):\n",
    "    M = transpose_matrix(m)\n",
    "    soporte = support(M)\n",
    "    complemento = []\n",
    "    omega = 0\n",
    "    for i in range(len(M)):\n",
    "        if i not in soporte:\n",
    "            complemento.append(i)\n",
    "    for dsbound in dsb_set:\n",
    "        opt = optimal_dsbound(dsbound, complemento)\n",
    "        omega = opt if opt > omega else omega\n",
    "    print(\"Omega respecto a y: \", omega)\n",
    "    return omega \n",
    "\n",
    "#calcula el epsilon en las columnas de la matriz M con respecto a un conjunto de ds-bounds\n",
    "def epsilon_y(m, dsb_set):\n",
    "    M = transpose_matrix(m)\n",
    "    soporte = support(M)\n",
    "    epsilon = 0\n",
    "    for i in soporte:\n",
    "        bv = Bad_vector(dsb_set, M[i])\n",
    "        epsilon = bv if bv > epsilon else epsilon\n",
    "    print(\"Epsilon respecto a y: \", epsilon)\n",
    "    return epsilon\n",
    "\n",
    "#calcula la distancia B-aparente en las columnas de la matriz M con respecto a los dos conjuntos de \n",
    "#ds-bounds (uno para cada dimension r1 y r2 de la matriz M_(r1 x r2))\n",
    "def Bad_y(dsb_set, dsb_set_2, M):\n",
    "    ome = omega_y(M, dsb_set)\n",
    "    eps = epsilon_y(M, dsb_set_2)\n",
    "    print(\"---------------------------------------------------------------\")\n",
    "    print(\"Distancia B-aparente respecto a y: \", ome*eps)\n",
    "    print(\"------------------------------------------------------------------------\")\n",
    "    return ome*eps"
   ]
  },
  {
   "cell_type": "code",
   "execution_count": 8,
   "metadata": {},
   "outputs": [],
   "source": [
    "#calcula la distancia B-aparente de la matriz M con respecto a los dos conjuntos de \n",
    "#ds-bounds (uno para cada dimension r1 y r2 de la matriz M_(r1 x r2))\n",
    "def Bad_matrix(M,dsb_set,dsb_set_2):\n",
    "    bad = max(Bad_x(dsb_set,dsb_set_2, M), Bad_y(dsb_set_2,dsb_set, M))\n",
    "    return bad"
   ]
  },
  {
   "cell_type": "markdown",
   "metadata": {},
   "source": [
    "Generar los set de ds-bounds para cada Z_r"
   ]
  },
  {
   "cell_type": "code",
   "execution_count": 9,
   "metadata": {},
   "outputs": [],
   "source": [
    "palabras_15 = generate_binary(15)\n",
    "palabras_3 = generate_binary(3)\n",
    "palabras_7 = generate_binary(7)\n",
    "palabras_5 = generate_binary(5)\n",
    "palabras_9 = generate_binary(9)"
   ]
  },
  {
   "cell_type": "code",
   "execution_count": 10,
   "metadata": {},
   "outputs": [],
   "source": [
    "ad_15 = generate_ad(palabras_15)\n",
    "ht_15 = generate_ht(palabras_15)\n",
    "ad_5 = generate_ad(palabras_5)\n",
    "ht_5 = generate_ht(palabras_5)\n",
    "ad_7 = generate_ad(palabras_7)\n",
    "ht_7 = generate_ht(palabras_7)\n",
    "ad_3 = generate_ad(palabras_3)\n",
    "ht_3 = generate_ht(palabras_3)\n",
    "ad_9 = generate_ad(palabras_9)\n",
    "ht_9 = generate_ht(palabras_9)"
   ]
  },
  {
   "cell_type": "code",
   "execution_count": 11,
   "metadata": {},
   "outputs": [],
   "source": [
    "dsb_set_15 = [ad_15,ht_15]\n",
    "dsb_set_3 = [ad_3,ht_3]\n",
    "dsb_set_7 = [ad_7,ht_7]\n",
    "dsb_set_5 = [ad_5,ht_5]\n",
    "dsb_set_9 = [ad_9,ht_9]"
   ]
  },
  {
   "cell_type": "markdown",
   "metadata": {},
   "source": [
    "<b>Ejemplo 1</b>"
   ]
  },
  {
   "cell_type": "code",
   "execution_count": 12,
   "metadata": {},
   "outputs": [
    {
     "name": "stdout",
     "output_type": "stream",
     "text": [
      "[0, 0, 0, 0, 0, 1, 0, 1, 0, 0, 1, 1, 0, 1, 1]\n",
      "[0, 0, 1, 1, 1, 1, 1, 1, 1, 1, 1, 1, 1, 1, 1]\n",
      "[0, 1, 0, 1, 1, 1, 1, 1, 1, 1, 1, 1, 1, 1, 1]\n",
      "[0, 1, 1, 1, 1, 1, 1, 1, 0, 1, 1, 1, 1, 1, 1]\n",
      "[0, 1, 1, 1, 0, 1, 1, 1, 1, 1, 1, 1, 1, 1, 1]\n"
     ]
    }
   ],
   "source": [
    "matrix =  generate_matrix(2,[[0,0],[0,1],[0,3],[1,0],[1,1]],[5,15])\n",
    "pm(matrix)"
   ]
  },
  {
   "cell_type": "code",
   "execution_count": 13,
   "metadata": {},
   "outputs": [
    {
     "name": "stdout",
     "output_type": "stream",
     "text": [
      "------------------------------------------------------------------------\n",
      "Omega respecto a x:  1\n",
      "Epsilon respecto a x:  6\n",
      "---------------------------------------------------------------\n",
      "Distancia B-aparente respecto a x:  6\n",
      "------------------------------------------------------------------------\n",
      "Omega respecto a y:  2\n",
      "Epsilon respecto a y:  3\n",
      "---------------------------------------------------------------\n",
      "Distancia B-aparente respecto a y:  6\n",
      "------------------------------------------------------------------------\n"
     ]
    },
    {
     "data": {
      "text/plain": [
       "6"
      ]
     },
     "execution_count": 13,
     "metadata": {},
     "output_type": "execute_result"
    }
   ],
   "source": [
    "Bad_matrix(matrix,dsb_set_5,dsb_set_15)"
   ]
  },
  {
   "cell_type": "markdown",
   "metadata": {},
   "source": [
    "<b>Ejemplo 2</b>"
   ]
  },
  {
   "cell_type": "code",
   "execution_count": 14,
   "metadata": {},
   "outputs": [
    {
     "name": "stdout",
     "output_type": "stream",
     "text": [
      "[0, 1, 1, 0, 1, 0, 0, 0, 1, 0, 0, 0, 0, 0, 0]\n",
      "[0, 1, 0, 1, 0, 1, 1, 1, 1, 1, 1, 1, 1, 1, 1]\n",
      "[0, 1, 1, 1, 0, 1, 1, 1, 0, 1, 1, 1, 1, 1, 1]\n",
      "[0, 0, 0, 1, 1, 1, 1, 1, 1, 1, 1, 1, 1, 1, 1]\n",
      "[0, 0, 1, 1, 1, 1, 1, 1, 0, 1, 1, 1, 1, 1, 1]\n"
     ]
    }
   ],
   "source": [
    "matrix = generate_matrix(2,[[0,0],[0,3],[0,5],[0,7],[1,0],[1,2],[1,4]],[5,15])\n",
    "pm(matrix)"
   ]
  },
  {
   "cell_type": "markdown",
   "metadata": {},
   "source": [
    "Calcular la distancia B-aparente de la matriz"
   ]
  },
  {
   "cell_type": "code",
   "execution_count": 15,
   "metadata": {},
   "outputs": [
    {
     "name": "stdout",
     "output_type": "stream",
     "text": [
      "------------------------------------------------------------------------\n",
      "Omega respecto a x:  1\n",
      "Epsilon respecto a x:  8\n",
      "---------------------------------------------------------------\n",
      "Distancia B-aparente respecto a x:  8\n",
      "------------------------------------------------------------------------\n",
      "Omega respecto a y:  2\n",
      "Epsilon respecto a y:  3\n",
      "---------------------------------------------------------------\n",
      "Distancia B-aparente respecto a y:  6\n",
      "------------------------------------------------------------------------\n"
     ]
    },
    {
     "data": {
      "text/plain": [
       "8"
      ]
     },
     "execution_count": 15,
     "metadata": {},
     "output_type": "execute_result"
    }
   ],
   "source": [
    "Bad_matrix(matrix,dsb_set_5,dsb_set_15)"
   ]
  },
  {
   "cell_type": "markdown",
   "metadata": {},
   "source": [
    "<b>Ejemplo 3</b>"
   ]
  },
  {
   "cell_type": "code",
   "execution_count": 16,
   "metadata": {},
   "outputs": [
    {
     "name": "stdout",
     "output_type": "stream",
     "text": [
      "[1, 1, 1, 0, 1, 0, 0, 1, 1, 0, 0, 1, 0, 1, 1]\n",
      "[1, 0, 1, 1, 1, 1, 1, 1, 1, 1, 1, 1, 1, 1, 1]\n",
      "[1, 1, 0, 1, 1, 1, 1, 1, 1, 1, 1, 1, 1, 1, 1]\n",
      "[1, 1, 1, 1, 1, 1, 1, 1, 0, 1, 1, 1, 1, 1, 1]\n",
      "[1, 1, 1, 1, 0, 1, 1, 1, 1, 1, 1, 1, 1, 1, 1]\n",
      "------------------------------------------------------------------------\n",
      "Omega respecto a x:  1\n",
      "Epsilon respecto a x:  4\n",
      "---------------------------------------------------------------\n",
      "Distancia B-aparente respecto a x:  4\n",
      "------------------------------------------------------------------------\n",
      "Omega respecto a y:  1\n",
      "Epsilon respecto a y:  2\n",
      "---------------------------------------------------------------\n",
      "Distancia B-aparente respecto a y:  2\n",
      "------------------------------------------------------------------------\n"
     ]
    },
    {
     "data": {
      "text/plain": [
       "4"
      ]
     },
     "execution_count": 16,
     "metadata": {},
     "output_type": "execute_result"
    }
   ],
   "source": [
    "matrix = generate_matrix(2,[[0,3],[0,5],[1,1]],[5,15])\n",
    "pm(matrix)\n",
    "Bad_matrix(matrix,dsb_set_5,dsb_set_15)"
   ]
  },
  {
   "cell_type": "markdown",
   "metadata": {},
   "source": [
    "<b>Ejemplo 4</b>"
   ]
  },
  {
   "cell_type": "code",
   "execution_count": 17,
   "metadata": {},
   "outputs": [
    {
     "name": "stdout",
     "output_type": "stream",
     "text": [
      "[1, 0, 0, 0, 0, 0, 0]\n",
      "[1, 0, 0, 1, 0, 1, 1]\n",
      "[1, 0, 0, 1, 0, 1, 1]\n",
      "[1, 0, 0, 1, 0, 1, 1]\n",
      "[1, 0, 0, 1, 0, 1, 1]\n"
     ]
    }
   ],
   "source": [
    "matrix = conjugate_matrix(generate_matrix(2,[[0,0],[1,0],[1,3]],[5,7]))\n",
    "pm(matrix)"
   ]
  },
  {
   "cell_type": "code",
   "execution_count": 18,
   "metadata": {
    "scrolled": true
   },
   "outputs": [
    {
     "name": "stdout",
     "output_type": "stream",
     "text": [
      "------------------------------------------------------------------------\n",
      "Omega respecto a x:  1\n",
      "Epsilon respecto a x:  7\n",
      "---------------------------------------------------------------\n",
      "Distancia B-aparente respecto a x:  7\n",
      "------------------------------------------------------------------------\n",
      "Omega respecto a y:  3\n",
      "Epsilon respecto a y:  2\n",
      "---------------------------------------------------------------\n",
      "Distancia B-aparente respecto a y:  6\n",
      "------------------------------------------------------------------------\n"
     ]
    },
    {
     "data": {
      "text/plain": [
       "7"
      ]
     },
     "execution_count": 18,
     "metadata": {},
     "output_type": "execute_result"
    }
   ],
   "source": [
    "Bad_matrix(matrix,dsb_set_5,dsb_set_7)"
   ]
  },
  {
   "cell_type": "markdown",
   "metadata": {},
   "source": [
    "<b>Ejemplo 5</b>"
   ]
  },
  {
   "cell_type": "code",
   "execution_count": 19,
   "metadata": {
    "scrolled": true
   },
   "outputs": [
    {
     "name": "stdout",
     "output_type": "stream",
     "text": [
      "[0, 0, 0, 0, 0, 0, 0]\n",
      "[1, 0, 0, 1, 0, 1, 1]\n",
      "[1, 0, 0, 1, 0, 1, 1]\n",
      "[1, 0, 0, 1, 0, 1, 1]\n",
      "[1, 0, 0, 1, 0, 1, 1]\n"
     ]
    }
   ],
   "source": [
    "matrix = conjugate_matrix(generate_matrix(2,[[1,0],[1,3]],[5,7]))\n",
    "pm(matrix)"
   ]
  },
  {
   "cell_type": "code",
   "execution_count": 20,
   "metadata": {
    "scrolled": true
   },
   "outputs": [
    {
     "name": "stdout",
     "output_type": "stream",
     "text": [
      "------------------------------------------------------------------------\n",
      "Omega respecto a x:  2\n",
      "Epsilon respecto a x:  3\n",
      "---------------------------------------------------------------\n",
      "Distancia B-aparente respecto a x:  6\n",
      "------------------------------------------------------------------------\n",
      "Omega respecto a y:  3\n",
      "Epsilon respecto a y:  2\n",
      "---------------------------------------------------------------\n",
      "Distancia B-aparente respecto a y:  6\n",
      "------------------------------------------------------------------------\n"
     ]
    },
    {
     "data": {
      "text/plain": [
       "6"
      ]
     },
     "execution_count": 20,
     "metadata": {},
     "output_type": "execute_result"
    }
   ],
   "source": [
    "Bad_matrix(matrix,dsb_set_5,dsb_set_7)"
   ]
  },
  {
   "cell_type": "markdown",
   "metadata": {},
   "source": [
    "<b>Ejemplo 6</b>"
   ]
  },
  {
   "cell_type": "code",
   "execution_count": 21,
   "metadata": {
    "scrolled": false
   },
   "outputs": [
    {
     "name": "stdout",
     "output_type": "stream",
     "text": [
      "[0, 0, 0, 0, 0, 0, 0, 0, 0, 0, 0, 0, 0, 0, 0]\n",
      "[1, 0, 0, 0, 0, 0, 0, 0, 0, 0, 1, 1, 0, 0, 1]\n",
      "[1, 0, 0, 0, 0, 1, 0, 1, 0, 0, 0, 0, 0, 1, 0]\n"
     ]
    }
   ],
   "source": [
    "matrix = conjugate_matrix(generate_matrix(2,[[1,0],[2,5],[2,7]],[3,15]))\n",
    "pm(matrix)"
   ]
  },
  {
   "cell_type": "code",
   "execution_count": 22,
   "metadata": {},
   "outputs": [
    {
     "name": "stdout",
     "output_type": "stream",
     "text": [
      "------------------------------------------------------------------------\n",
      "Omega respecto a x:  2\n",
      "Epsilon respecto a x:  10\n",
      "---------------------------------------------------------------\n",
      "Distancia B-aparente respecto a x:  20\n",
      "------------------------------------------------------------------------\n",
      "Omega respecto a y:  5\n",
      "Epsilon respecto a y:  3\n",
      "---------------------------------------------------------------\n",
      "Distancia B-aparente respecto a y:  15\n",
      "------------------------------------------------------------------------\n"
     ]
    },
    {
     "data": {
      "text/plain": [
       "20"
      ]
     },
     "execution_count": 22,
     "metadata": {},
     "output_type": "execute_result"
    }
   ],
   "source": [
    "Bad_matrix(matrix,dsb_set_3,dsb_set_15)"
   ]
  },
  {
   "cell_type": "markdown",
   "metadata": {},
   "source": [
    "<b>Ejemplo 7 (Diana)</b>"
   ]
  },
  {
   "cell_type": "code",
   "execution_count": 23,
   "metadata": {},
   "outputs": [
    {
     "name": "stdout",
     "output_type": "stream",
     "text": [
      "[0, 1, 1, 0, 1, 0, 0]\n",
      "[0, 1, 1, 1, 1, 1, 1]\n",
      "[0, 1, 1, 1, 1, 1, 1]\n",
      "[0, 1, 1, 1, 1, 1, 1]\n",
      "[0, 1, 1, 1, 1, 1, 1]\n"
     ]
    }
   ],
   "source": [
    "matrix = generate_matrix(2,[[0,0],[1,0],[0,3]],[5,7])\n",
    "pm(matrix)"
   ]
  },
  {
   "cell_type": "code",
   "execution_count": 24,
   "metadata": {},
   "outputs": [
    {
     "name": "stdout",
     "output_type": "stream",
     "text": [
      "------------------------------------------------------------------------\n",
      "Omega respecto a x:  1\n",
      "Epsilon respecto a x:  4\n",
      "---------------------------------------------------------------\n",
      "Distancia B-aparente respecto a x:  4\n",
      "------------------------------------------------------------------------\n",
      "Omega respecto a y:  2\n",
      "Epsilon respecto a y:  2\n",
      "---------------------------------------------------------------\n",
      "Distancia B-aparente respecto a y:  4\n",
      "------------------------------------------------------------------------\n"
     ]
    },
    {
     "data": {
      "text/plain": [
       "4"
      ]
     },
     "execution_count": 24,
     "metadata": {},
     "output_type": "execute_result"
    }
   ],
   "source": [
    "Bad_matrix(matrix,dsb_set_5,dsb_set_7)"
   ]
  },
  {
   "cell_type": "markdown",
   "metadata": {},
   "source": [
    "<b>Ejemplo 8 (Diana)</b>"
   ]
  },
  {
   "cell_type": "code",
   "execution_count": 25,
   "metadata": {},
   "outputs": [
    {
     "name": "stdout",
     "output_type": "stream",
     "text": [
      "[1, 0, 0, 0, 0, 0, 0]\n",
      "[1, 1, 1, 0, 1, 0, 0]\n",
      "[1, 1, 1, 0, 1, 0, 0]\n",
      "[1, 1, 1, 0, 1, 0, 0]\n",
      "[1, 1, 1, 0, 1, 0, 0]\n"
     ]
    }
   ],
   "source": [
    "matrix = generate_matrix(2,[[0,1],[0,3],[1,3]],[5,7])\n",
    "pm(matrix)"
   ]
  },
  {
   "cell_type": "code",
   "execution_count": 26,
   "metadata": {},
   "outputs": [
    {
     "name": "stdout",
     "output_type": "stream",
     "text": [
      "------------------------------------------------------------------------\n",
      "Omega respecto a x:  1\n",
      "Epsilon respecto a x:  7\n",
      "---------------------------------------------------------------\n",
      "Distancia B-aparente respecto a x:  7\n",
      "------------------------------------------------------------------------\n",
      "Omega respecto a y:  3\n",
      "Epsilon respecto a y:  2\n",
      "---------------------------------------------------------------\n",
      "Distancia B-aparente respecto a y:  6\n",
      "------------------------------------------------------------------------\n"
     ]
    },
    {
     "data": {
      "text/plain": [
       "7"
      ]
     },
     "execution_count": 26,
     "metadata": {},
     "output_type": "execute_result"
    }
   ],
   "source": [
    "Bad_matrix(matrix,dsb_set_5,dsb_set_7)"
   ]
  },
  {
   "cell_type": "markdown",
   "metadata": {},
   "source": [
    "<b>Ejemplo 9 (Diana)</b>"
   ]
  },
  {
   "cell_type": "code",
   "execution_count": 27,
   "metadata": {},
   "outputs": [
    {
     "name": "stdout",
     "output_type": "stream",
     "text": [
      "[1, 0, 0, 1, 0, 0, 1, 0, 0]\n",
      "[0, 1, 1, 1, 1, 1, 1, 1, 1]\n",
      "[0, 1, 1, 1, 1, 1, 1, 1, 1]\n",
      "[0, 1, 1, 1, 1, 1, 1, 1, 1]\n",
      "[0, 1, 1, 1, 1, 1, 1, 1, 1]\n"
     ]
    }
   ],
   "source": [
    "matrix = generate_matrix(2,[[0,1],[1,0]],[5,9])\n",
    "pm(matrix)"
   ]
  },
  {
   "cell_type": "code",
   "execution_count": 28,
   "metadata": {},
   "outputs": [
    {
     "name": "stdout",
     "output_type": "stream",
     "text": [
      "------------------------------------------------------------------------\n",
      "Omega respecto a x:  1\n",
      "Epsilon respecto a x:  3\n",
      "---------------------------------------------------------------\n",
      "Distancia B-aparente respecto a x:  3\n",
      "------------------------------------------------------------------------\n",
      "Omega respecto a y:  1\n",
      "Epsilon respecto a y:  5\n",
      "---------------------------------------------------------------\n",
      "Distancia B-aparente respecto a y:  5\n",
      "------------------------------------------------------------------------\n"
     ]
    },
    {
     "data": {
      "text/plain": [
       "5"
      ]
     },
     "execution_count": 28,
     "metadata": {},
     "output_type": "execute_result"
    }
   ],
   "source": [
    "Bad_matrix(matrix,dsb_set_5,dsb_set_9)"
   ]
  },
  {
   "cell_type": "markdown",
   "metadata": {},
   "source": [
    "<b>Ejemplo 10 (Diana)</b>"
   ]
  },
  {
   "cell_type": "code",
   "execution_count": 29,
   "metadata": {},
   "outputs": [
    {
     "name": "stdout",
     "output_type": "stream",
     "text": [
      "[0, 1, 1, 1, 1, 1, 1, 0, 1, 1, 1, 0, 1, 0, 0]\n",
      "[0, 1, 1, 1, 1, 1, 1, 1, 1, 1, 1, 1, 1, 1, 1]\n",
      "[0, 1, 1, 1, 1, 1, 1, 1, 1, 1, 1, 1, 1, 1, 1]\n"
     ]
    }
   ],
   "source": [
    "matrix = generate_matrix(2,[[0,0],[1,0],[0,7]],[3,15])\n",
    "pm(matrix)"
   ]
  },
  {
   "cell_type": "code",
   "execution_count": 30,
   "metadata": {},
   "outputs": [
    {
     "name": "stdout",
     "output_type": "stream",
     "text": [
      "------------------------------------------------------------------------\n",
      "Omega respecto a x:  1\n",
      "Epsilon respecto a x:  4\n",
      "---------------------------------------------------------------\n",
      "Distancia B-aparente respecto a x:  4\n",
      "------------------------------------------------------------------------\n",
      "Omega respecto a y:  2\n",
      "Epsilon respecto a y:  2\n",
      "---------------------------------------------------------------\n",
      "Distancia B-aparente respecto a y:  4\n",
      "------------------------------------------------------------------------\n"
     ]
    },
    {
     "data": {
      "text/plain": [
       "4"
      ]
     },
     "execution_count": 30,
     "metadata": {},
     "output_type": "execute_result"
    }
   ],
   "source": [
    "Bad_matrix(matrix,dsb_set_3,dsb_set_15)"
   ]
  },
  {
   "cell_type": "code",
   "execution_count": 31,
   "metadata": {},
   "outputs": [
    {
     "name": "stdout",
     "output_type": "stream",
     "text": [
      "[1, 0, 0, 1, 0, 0, 1, 0, 0]\n",
      "[0, 1, 1, 0, 1, 1, 0, 1, 1]\n",
      "[0, 1, 1, 0, 1, 1, 0, 1, 1]\n"
     ]
    }
   ],
   "source": [
    "matrix = generate_matrix(2,[[1,0],[0,1],[1,3],[1,6]],[3,9])\n",
    "pm(matrix)"
   ]
  },
  {
   "cell_type": "code",
   "execution_count": 32,
   "metadata": {},
   "outputs": [
    {
     "name": "stdout",
     "output_type": "stream",
     "text": [
      "------------------------------------------------------------------------\n",
      "Omega respecto a x:  1\n",
      "Epsilon respecto a x:  3\n",
      "---------------------------------------------------------------\n",
      "Distancia B-aparente respecto a x:  3\n",
      "------------------------------------------------------------------------\n",
      "Omega respecto a y:  1\n",
      "Epsilon respecto a y:  3\n",
      "---------------------------------------------------------------\n",
      "Distancia B-aparente respecto a y:  3\n",
      "------------------------------------------------------------------------\n"
     ]
    },
    {
     "data": {
      "text/plain": [
       "3"
      ]
     },
     "execution_count": 32,
     "metadata": {},
     "output_type": "execute_result"
    }
   ],
   "source": [
    "Bad_matrix(matrix,dsb_set_3,dsb_set_9)"
   ]
  },
  {
   "cell_type": "code",
   "execution_count": 33,
   "metadata": {},
   "outputs": [
    {
     "data": {
      "text/plain": [
       "[[0, 0]]"
      ]
     },
     "execution_count": 33,
     "metadata": {},
     "output_type": "execute_result"
    }
   ],
   "source": [
    "q_orbits(2, [0,0], [5,15])"
   ]
  },
  {
   "cell_type": "code",
   "execution_count": 34,
   "metadata": {},
   "outputs": [
    {
     "data": {
      "text/plain": [
       "[[0, 1], [0, 2], [0, 4], [0, 8]]"
      ]
     },
     "execution_count": 34,
     "metadata": {},
     "output_type": "execute_result"
    }
   ],
   "source": [
    "q_orbits(2, [0,1], [5,15])"
   ]
  },
  {
   "cell_type": "code",
   "execution_count": 35,
   "metadata": {},
   "outputs": [
    {
     "data": {
      "text/plain": [
       "[[0, 3], [0, 6], [0, 12], [0, 9]]"
      ]
     },
     "execution_count": 35,
     "metadata": {},
     "output_type": "execute_result"
    }
   ],
   "source": [
    "q_orbits(2, [0,3], [5,15])"
   ]
  },
  {
   "cell_type": "code",
   "execution_count": 36,
   "metadata": {},
   "outputs": [
    {
     "data": {
      "text/plain": [
       "[[1, 0], [2, 0], [4, 0], [3, 0]]"
      ]
     },
     "execution_count": 36,
     "metadata": {},
     "output_type": "execute_result"
    }
   ],
   "source": [
    "q_orbits(2, [1,0], [5,15])"
   ]
  },
  {
   "cell_type": "code",
   "execution_count": 37,
   "metadata": {},
   "outputs": [
    {
     "data": {
      "text/plain": [
       "[[1, 1], [2, 2], [4, 4], [3, 8]]"
      ]
     },
     "execution_count": 37,
     "metadata": {},
     "output_type": "execute_result"
    }
   ],
   "source": [
    "q_orbits(2, [1,1], [5,15])"
   ]
  },
  {
   "cell_type": "code",
   "execution_count": null,
   "metadata": {},
   "outputs": [],
   "source": []
  }
 ],
 "metadata": {
  "kernelspec": {
   "display_name": "SageMath 9.1",
   "language": "sage",
   "name": "sagemath"
  },
  "language_info": {
   "codemirror_mode": {
    "name": "ipython",
    "version": 3
   },
   "file_extension": ".py",
   "mimetype": "text/x-python",
   "name": "python",
   "nbconvert_exporter": "python",
   "pygments_lexer": "ipython3",
   "version": "3.7.3"
  }
 },
 "nbformat": 4,
 "nbformat_minor": 2
}
